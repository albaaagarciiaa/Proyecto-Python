{
 "cells": [
  {
   "cell_type": "markdown",
   "id": "eaebb484",
   "metadata": {},
   "source": [
    "# TRABAJO DE PYTHON\n",
    "\n",
    "### Este trabajo cuenta el 30% de la nota. \n",
    "\n",
    "### Resuelve los siguientes ejercicios en Python\n",
    "\n",
    "#### Utiliza tantas celdas de código como necesites"
   ]
  },
  {
   "cell_type": "markdown",
   "id": "98d4d480",
   "metadata": {},
   "source": [
    "#### 1.- Carga el archivo *\"archivo.txt\"* en este Jupyter Notebook y guarda su contenido en una lista. (1 pto)"
   ]
  },
  {
   "cell_type": "code",
   "execution_count": 1,
   "id": "f6b21b23",
   "metadata": {},
   "outputs": [
    {
     "data": {
      "text/plain": [
       "['>CP043953.1 Acinetobacter baumannii strain K09-14 chromosome, complete genome\\n',\n",
       " 'ATGCTTTGGACAGACTGCTTAACTCGCTTGCGACAAGAGCTCTCTGATAACGTCTTTGCGATGTGGATTCGCCCTTTAGTAGCTGAAGAAGTAGAGGGGATACTACGTCTCTATGCTCCTAATCCTTATTGGACGCGTTATATTCAAGAGAATCATTTAGAGTTAATTTCTATATTGGCTGAACAATTGTCAGAAGGGCGGGTGCGTCAGGTTGAAATCTTGGTAGATTCTCGTCCTGGTAGTATTTTGTCTTCTAGTGAACAGCCTGCAACAACTACAGCAGCTTTACAAACTGCCCCTATACCTCAACCTGCTAAGGTTAAAAGAGAACCGGAACCTGTTGCTAATACTGCAGTTAGTTCTAAGAGTTCAAAAAAGAAACTATTAAATCCACAATTTACTTTTTCACTATTTGTTGAAGGCCGTTCTAACCAAATGGCAGCAGAAACCTGTAGAAAAGTATTAACACAGTTAGGTGCTTCTCAACATAACCCTTTGTTTTTATATGGTCCGACAGGTCTAGGTAAGACTCACTTAATGCAAGCAGTTGGTAATGCCCTACTGCAAGCGAAGCCGAATGCAAGAGTCATGTATATGACTTCAGAAAGTTTTGTACAAGATTTTGTGAGCTCATTACAAAAAGGAAAGGTAGAAGAGTTTAAGAAAAATTGCCGTTCTTTAGACTTGTTATTAGTAGATGATATTCATCTTTTGGCAGGAAAAGAAGCAAGTCTCGTTGAATTCTTCTATACATTTAATGCCTTACTTGATGAATCTAAACAAATTATTTTAACGTCTGATCGATATCCTAAAGAATTAACAGAACTTGATCCTCGATTGGTTTCTCGTTTTTCCTGGGGGCTATCAGTAGGTGTTGAACCACCTGATATTGAAACTCGAATCGAAATTCTGCTTAAAAAAGCTGAAAATAGTGGCGTTGATTTACCTAGAAACTGTGCGTTGTTTATTGCCCAACAAGTCGTAGCGAACGTACGTGAACTTGAGGGCGCACTGAATAAAGTTGTCGCAATTTCACGTTTTAAAGGTGCTCCAATTGACCTGGATGTCGTACGGGAATCTTTAAAAGATGTTTTAGCGATCCGTGCTCGTACAATTAGTGTAGAAAATATCCAGCGTGTAGTGAGTGAATATTTCCGAATTCCATTAAAAGAGCTGGTAGGTCCAAAGCGTACCCGAATTTATGCTCGACCACGTCAGTTGGCGATGGGGCTTGCCCGTGAATTAACGGGGGATAGTTTTCCTGAAATTGGAATGGCTTTTGGTGGGCGTGATCACAGTACAGTGATGCATGCTTGTGAAAAAGTCGTC']"
      ]
     },
     "execution_count": 1,
     "metadata": {},
     "output_type": "execute_result"
    }
   ],
   "source": [
    "file=open(\"archivo.txt\")\n",
    "gen_ADN = file.readlines()\n",
    "file.close()\n",
    "gen_ADN"
   ]
  },
  {
   "cell_type": "markdown",
   "id": "400fa3f1",
   "metadata": {},
   "source": [
    "#### 2.- Muestre el encabezado y la secuencia y guarde cada uno en variables separadas. Elimine el elemento \"\\n\" del encabezado con replace(). ¿Cual es la longitud de la secuencia?. (1 pto)"
   ]
  },
  {
   "cell_type": "code",
   "execution_count": 5,
   "id": "154b42b2",
   "metadata": {},
   "outputs": [
    {
     "name": "stdout",
     "output_type": "stream",
     "text": [
      "Encabezado: >CP043953.1 Acinetobacter baumannii strain K09-14 chromosome, complete genome\n",
      "Secuencia: ATGCTTTGGACAGACTGCTTAACTCGCTTGCGACAAGAGCTCTCTGATAACGTCTTTGCGATGTGGATTCGCCCTTTAGTAGCTGAAGAAGTAGAGGGGATACTACGTCTCTATGCTCCTAATCCTTATTGGACGCGTTATATTCAAGAGAATCATTTAGAGTTAATTTCTATATTGGCTGAACAATTGTCAGAAGGGCGGGTGCGTCAGGTTGAAATCTTGGTAGATTCTCGTCCTGGTAGTATTTTGTCTTCTAGTGAACAGCCTGCAACAACTACAGCAGCTTTACAAACTGCCCCTATACCTCAACCTGCTAAGGTTAAAAGAGAACCGGAACCTGTTGCTAATACTGCAGTTAGTTCTAAGAGTTCAAAAAAGAAACTATTAAATCCACAATTTACTTTTTCACTATTTGTTGAAGGCCGTTCTAACCAAATGGCAGCAGAAACCTGTAGAAAAGTATTAACACAGTTAGGTGCTTCTCAACATAACCCTTTGTTTTTATATGGTCCGACAGGTCTAGGTAAGACTCACTTAATGCAAGCAGTTGGTAATGCCCTACTGCAAGCGAAGCCGAATGCAAGAGTCATGTATATGACTTCAGAAAGTTTTGTACAAGATTTTGTGAGCTCATTACAAAAAGGAAAGGTAGAAGAGTTTAAGAAAAATTGCCGTTCTTTAGACTTGTTATTAGTAGATGATATTCATCTTTTGGCAGGAAAAGAAGCAAGTCTCGTTGAATTCTTCTATACATTTAATGCCTTACTTGATGAATCTAAACAAATTATTTTAACGTCTGATCGATATCCTAAAGAATTAACAGAACTTGATCCTCGATTGGTTTCTCGTTTTTCCTGGGGGCTATCAGTAGGTGTTGAACCACCTGATATTGAAACTCGAATCGAAATTCTGCTTAAAAAAGCTGAAAATAGTGGCGTTGATTTACCTAGAAACTGTGCGTTGTTTATTGCCCAACAAGTCGTAGCGAACGTACGTGAACTTGAGGGCGCACTGAATAAAGTTGTCGCAATTTCACGTTTTAAAGGTGCTCCAATTGACCTGGATGTCGTACGGGAATCTTTAAAAGATGTTTTAGCGATCCGTGCTCGTACAATTAGTGTAGAAAATATCCAGCGTGTAGTGAGTGAATATTTCCGAATTCCATTAAAAGAGCTGGTAGGTCCAAAGCGTACCCGAATTTATGCTCGACCACGTCAGTTGGCGATGGGGCTTGCCCGTGAATTAACGGGGGATAGTTTTCCTGAAATTGGAATGGCTTTTGGTGGGCGTGATCACAGTACAGTGATGCATGCTTGTGAAAAAGTCGTC\n",
      "Longitud de la secuencia: 1329\n"
     ]
    }
   ],
   "source": [
    "encabezado= gen_ADN[0].replace('\\n', '')\n",
    "secuencia= ''.join(line.strip() for line in gen_ADN [1:])\n",
    "\n",
    "print(\"Encabezado:\", encabezado)\n",
    "print(\"Secuencia:\", secuencia)\n",
    "\n",
    "longitud_secuencia= len(secuencia)\n",
    "print(\"Longitud de la secuencia:\", longitud_secuencia)"
   ]
  },
  {
   "cell_type": "markdown",
   "id": "36b8c00d",
   "metadata": {},
   "source": [
    "#### 3.- Para el encabezado, extrae empleando expresiones regulares el identificador. (1pto)"
   ]
  },
  {
   "cell_type": "code",
   "execution_count": 7,
   "id": "d845bb81",
   "metadata": {},
   "outputs": [
    {
     "name": "stdout",
     "output_type": "stream",
     "text": [
      "Identificador: CP043953.1\n"
     ]
    }
   ],
   "source": [
    "import re\n",
    "\n",
    "identificador= re.search(r'^>(\\S+)', encabezado).group(1)\n",
    "print(\"Identificador:\", identificador)"
   ]
  },
  {
   "cell_type": "markdown",
   "id": "f38fdda0",
   "metadata": {},
   "source": [
    "#### 4.- Para la secuencia, haz un algoritmo que vaya sumando el numero de adeninas (A) y timinas (T) segun vaya iterando por la secuencia. El numero total de adeninas y timinas deberia guardarse en una misma variable. (1 pto)"
   ]
  },
  {
   "cell_type": "code",
   "execution_count": 9,
   "id": "2914b1f2",
   "metadata": {},
   "outputs": [
    {
     "name": "stdout",
     "output_type": "stream",
     "text": [
      "Número total de A y T: 793\n"
     ]
    }
   ],
   "source": [
    "conteo_AT= 0\n",
    "\n",
    "for nucleotido in secuencia:\n",
    "    if nucleotido== 'A' or nucleotido== 'T':\n",
    "        conteo_AT+=1\n",
    "\n",
    "print(\"Número total de A y T:\", conteo_AT)"
   ]
  },
  {
   "cell_type": "markdown",
   "id": "98096e73",
   "metadata": {},
   "source": [
    "#### 5.- Escribe una funcion que calcule el porcentaje de un nucleotido de una secuencia y que examine la entrada para comprobar que se ha introducido un nucleotido de los cuatro tipos que hay (A, T, G o C). Devuelve el resultado con un decimal. Por ultimo comprueba que tu codigo funciona con las siguientes *assertions*. (1 pto)"
   ]
  },
  {
   "cell_type": "code",
   "execution_count": 11,
   "id": "cde8f436-7fc3-4a16-9211-92d8a6651fd3",
   "metadata": {},
   "outputs": [],
   "source": [
    "def calculo_porcentaje(nucleotido, secuencia):\n",
    "    if nucleotido not in 'ATGC':\n",
    "        raise ValueError(\"Nucleótido no válido. Debe ser A,T,G o C\")\n",
    "\n",
    "    conteo= secuencia.count(nucleotido)\n",
    "    porcentaje= (conteo/ len(secuencia))*100\n",
    "    return round(porcentaje, 1)\n"
   ]
  },
  {
   "cell_type": "code",
   "execution_count": 13,
   "id": "df4b86c4",
   "metadata": {},
   "outputs": [
    {
     "name": "stdout",
     "output_type": "stream",
     "text": [
      "Las pruebas de assertions pasaron correctamente\n"
     ]
    }
   ],
   "source": [
    "assert calculo_porcentaje(\"A\",secuencia) == 29.2\n",
    "assert calculo_porcentaje(\"T\",secuencia) == 30.5\n",
    "assert calculo_porcentaje(\"G\",secuencia) == 22.0\n",
    "assert calculo_porcentaje(\"C\",secuencia) == 18.3\n",
    "\n",
    "print(\"Las pruebas de assertions pasaron correctamente\")"
   ]
  },
  {
   "cell_type": "markdown",
   "id": "a28888dd",
   "metadata": {},
   "source": [
    "#### 6.- Devuelve la secuencia de ARN que surgiría a partir de la siguiente secuencia. Recuerda que la secuencia de ARN resultante tiene que ser complementaria a la de ADN y además, hay que cambiar un nucleótido. (1 pto)"
   ]
  },
  {
   "cell_type": "code",
   "execution_count": 15,
   "id": "b27feabb",
   "metadata": {},
   "outputs": [
    {
     "name": "stdout",
     "output_type": "stream",
     "text": [
      "Secuencia de ARN AUGCUUUGGACAGACUGCUUAACUCGCUUGCGACAAGAGCUCUCUGAUAACGUCUUUGCGAUGUGGAUUCGCCCUUUAGUAGCUGAAGAAGUAGAGGGGAUACUACGUCUCUAUGCUCCUAAUCCUUAUUGGACGCGUUAUAUUCAAGAGAAUCAUUUAGAGUUAAUUUCUAUAUUGGCUGAACAAUUGUCAGAAGGGCGGGUGCGUCAGGUUGAAAUCUUGGUAGAUUCUCGUCCUGGUAGUAUUUUGUCUUCUAGUGAACAGCCUGCAACAACUACAGCAGCUUUACAAACUGCCCCUAUACCUCAACCUGCUAAGGUUAAAAGAGAACCGGAACCUGUUGCUAAUACUGCAGUUAGUUCUAAGAGUUCAAAAAAGAAACUAUUAAAUCCACAAUUUACUUUUUCACUAUUUGUUGAAGGCCGUUCUAACCAAAUGGCAGCAGAAACCUGUAGAAAAGUAUUAACACAGUUAGGUGCUUCUCAACAUAACCCUUUGUUUUUAUAUGGUCCGACAGGUCUAGGUAAGACUCACUUAAUGCAAGCAGUUGGUAAUGCCCUACUGCAAGCGAAGCCGAAUGCAAGAGUCAUGUAUAUGACUUCAGAAAGUUUUGUACAAGAUUUUGUGAGCUCAUUACAAAAAGGAAAGGUAGAAGAGUUUAAGAAAAAUUGCCGUUCUUUAGACUUGUUAUUAGUAGAUGAUAUUCAUCUUUUGGCAGGAAAAGAAGCAAGUCUCGUUGAAUUCUUCUAUACAUUUAAUGCCUUACUUGAUGAAUCUAAACAAAUUAUUUUAACGUCUGAUCGAUAUCCUAAAGAAUUAACAGAACUUGAUCCUCGAUUGGUUUCUCGUUUUUCCUGGGGGCUAUCAGUAGGUGUUGAACCACCUGAUAUUGAAACUCGAAUCGAAAUUCUGCUUAAAAAAGCUGAAAAUAGUGGCGUUGAUUUACCUAGAAACUGUGCGUUGUUUAUUGCCCAACAAGUCGUAGCGAACGUACGUGAACUUGAGGGCGCACUGAAUAAAGUUGUCGCAAUUUCACGUUUUAAAGGUGCUCCAAUUGACCUGGAUGUCGUACGGGAAUCUUUAAAAGAUGUUUUAGCGAUCCGUGCUCGUACAAUUAGUGUAGAAAAUAUCCAGCGUGUAGUGAGUGAAUAUUUCCGAAUUCCAUUAAAAGAGCUGGUAGGUCCAAAGCGUACCCGAAUUUAUGCUCGACCACGUCAGUUGGCGAUGGGGCUUGCCCGUGAAUUAACGGGGGAUAGUUUUCCUGAAAUUGGAAUGGCUUUUGGUGGGCGUGAUCACAGUACAGUGAUGCAUGCUUGUGAAAAAGUCGUC\n"
     ]
    }
   ],
   "source": [
    "def convertir_a_arn(secuencia):\n",
    "    complementaria= secuencia.replace('T', 'U')\n",
    "    return complementaria\n",
    "\n",
    "secuencia_arn= convertir_a_arn(secuencia)\n",
    "print(\"Secuencia de ARN\", secuencia_arn)"
   ]
  },
  {
   "cell_type": "markdown",
   "id": "9f94d5dd",
   "metadata": {},
   "source": [
    "#### 7.- Realiza una función que realice una digestión con las siguientes enzimas de restricción en nuestra secuencia. La función tiene que devolver la siguiente información: (2 pto)\n",
    "1. Enzimas que tienen sitios de corte en la secuencia y posición (o posiciones de corte)\n",
    "2. Enzimas que no tienen sitios de corte (si las hay)\n",
    "3. Resultado de la digestión: los fragmentos resultantes de nuestra secuencia\n",
    "4. Indicar número y tamaño de cada fragmento"
   ]
  },
  {
   "cell_type": "code",
   "execution_count": 17,
   "id": "1cab833c",
   "metadata": {},
   "outputs": [],
   "source": [
    "enzR = {\n",
    "    'HindIII' : 'A*AGCTT',\n",
    "    'BamHI' : 'G*GATCC',\n",
    "    'AluI' : 'AG*CT',\n",
    "    'Sau3AI' : '*GATC',\n",
    "    'EcoRI' : 'G*AATTC'\n",
    "}"
   ]
  },
  {
   "cell_type": "code",
   "execution_count": 18,
   "id": "c2f81856-0c4f-4c29-a35e-9f10e42e76ac",
   "metadata": {},
   "outputs": [
    {
     "name": "stdout",
     "output_type": "stream",
     "text": [
      "Enzimas con sitios de corte y sus posiciones: {'AluI': [37, 80, 281, 627, 920, 1171], 'Sau3AI': [798, 828, 1097, 1290], 'EcoRI': [738, 1156]}\n",
      "Enzimas sin sitios de corte: ['HindIII', 'BamHI']\n",
      "Fragmentos resultantes (número y tamaño) [(1, 37), (2, 43), (3, 201), (4, 346), (5, 111), (6, 60), (7, 30), (8, 92), (9, 177), (10, 59), (11, 15), (12, 119), (13, 39)]\n"
     ]
    }
   ],
   "source": [
    "def realizar_digestion(secuencia,enzimas):\n",
    "    enzimas_con_sitio= {}\n",
    "    enzimas_sin_sitio=[]\n",
    "    fragmentos=[]\n",
    "\n",
    "    for enzima,sitio in enzimas.items():\n",
    "        sitio_limpio=sitio.replace('*','')\n",
    "        posiciones=[]\n",
    "\n",
    "        pos=secuencia.find(sitio_limpio)\n",
    "        while pos != -1:\n",
    "            posiciones.append(pos)\n",
    "            pos = secuencia.find(sitio_limpio, pos + 1) \n",
    "\n",
    "        if posiciones:\n",
    "            enzimas_con_sitio[enzima]= posiciones\n",
    "\n",
    "        else:\n",
    "            enzimas_sin_sitio.append(enzima)\n",
    "\n",
    "    cortes=sorted(sum(enzimas_con_sitio.values(), []))\n",
    "    inicio=0\n",
    "\n",
    "    for corte in cortes:\n",
    "        fragmento= secuencia[inicio:corte]\n",
    "        fragmentos.append(fragmento)\n",
    "        inicio=corte\n",
    "    fragmentos.append(secuencia[inicio:])\n",
    "\n",
    "    fragmentos_info= [(i+1,len(frag)) for i,  frag in enumerate (fragmentos)]\n",
    "    return {\n",
    "        \"enzimas_con_sitio\": enzimas_con_sitio,\n",
    "        \"enzimas_sin_sitio\": enzimas_sin_sitio,\n",
    "        \"fragmentos\":fragmentos_info\n",
    "    }\n",
    "\n",
    "enzR = {\n",
    "    'HindIII' : 'A*AGCTT',\n",
    "    'BamHI' : 'G*GATCC',\n",
    "    'AluI' : 'AG*CT',\n",
    "    'Sau3AI' : '*GATC',\n",
    "    'EcoRI' : 'G*AATTC'\n",
    "}\n",
    "\n",
    "resultado= realizar_digestion(secuencia,enzR)\n",
    "\n",
    "print(\"Enzimas con sitios de corte y sus posiciones:\", resultado[\"enzimas_con_sitio\"])\n",
    "print(\"Enzimas sin sitios de corte:\", resultado[\"enzimas_sin_sitio\"])\n",
    "print(\"Fragmentos resultantes (número y tamaño)\",resultado[\"fragmentos\"])\n"
   ]
  },
  {
   "cell_type": "code",
   "execution_count": null,
   "id": "526308d7-96ad-4098-bba2-cc39c50d1ef1",
   "metadata": {},
   "outputs": [],
   "source": []
  },
  {
   "cell_type": "markdown",
   "id": "cae3c937",
   "metadata": {},
   "source": [
    "#### 8.- Realiza una función que mediante la introducción de una secuencia de ADN devuelva lo siguiente: (2pto)\n",
    "1. La secuencia traducida de proteína\n",
    "2. La longitud de la secuencia de ADN original y la longitud de la secuencia de proteínas final\n",
    "3. El porcentaje de aminoácidos aromáticos (en conjunto y por separado)\n"
   ]
  },
  {
   "cell_type": "code",
   "execution_count": 22,
   "id": "1c43d765",
   "metadata": {},
   "outputs": [
    {
     "name": "stdout",
     "output_type": "stream",
     "text": [
      "Secuencia traducida de proteína: MLWTDCLTRLRQELSDNVFAMWIRPLVAEEVEGILRLYAPNPYWTRYIQENHLELISILAEQLSEGRVRQVEILVDSRPGSILSSSEQPATTTAALQTAPIPQPAKVKREPEPVANTAVSSKSSKKKLLNPQFTFSLFVEGRSNQMAAETCRKVLTQLGASQHNPLFLYGPTGLGKTHLMQAVGNALLQAKPNARVMYMTSESFVQDFVSSLQKGKVEEFKKNCRSLDLLLVDDIHLLAGKEASLVEFFYTFNALLDESKQIILTSDRYPKELTELDPRLVSRFSWGLSVGVEPPDIETRIEILLKKAENSGVDLPRNCALFIAQQVVANVRELEGALNKVVAISRFKGAPIDLDVVRESLKDVLAIRARTISVENIQRVVSEYFRIPLKELVGPKRTRIYARPRQLAMGLARELTGDSFPEIGMAFGGRDHSTVMHACEKVV\n",
      "Longitud de la secuencia de ADN: 1329\n",
      "Longitud de la secuencia de proteínas: 443\n",
      "Porcentaje de aminoácidos aromáticos: 6.772009029345373\n",
      "Porcentaje de Fenilalanina (F): 3.837471783295711\n",
      "Porcentaje de Tirosina (Y): 2.0316027088036117\n",
      "Porcentaje de Triptofano (W): 0.9029345372460496\n"
     ]
    }
   ],
   "source": [
    "tabla_codones = {\n",
    "    'ATA':'I', 'ATC':'I', 'ATT':'I', 'ATG':'M',\n",
    "    'ACA':'T', 'ACC':'T', 'ACG':'T', 'ACT':'T',\n",
    "    'AAC':'N', 'AAT':'N', 'AAA':'K', 'AAG':'K',\n",
    "    'AGC':'S', 'AGT':'S', 'AGA':'R', 'AGG':'R',\n",
    "    'CTA':'L', 'CTC':'L', 'CTG':'L', 'CTT':'L',\n",
    "    'CCA':'P', 'CCC':'P', 'CCG':'P', 'CCT':'P',\n",
    "    'CAC':'H', 'CAT':'H', 'CAA':'Q', 'CAG':'Q',\n",
    "    'CGA':'R', 'CGC':'R', 'CGG':'R', 'CGT':'R',\n",
    "    'GTA':'V', 'GTC':'V', 'GTG':'V', 'GTT':'V',\n",
    "    'GCA':'A', 'GCC':'A', 'GCG':'A', 'GCT':'A',\n",
    "    'GAC':'D', 'GAT':'D', 'GAA':'E', 'GAG':'E',\n",
    "    'GGA':'G', 'GGC':'G', 'GGG':'G', 'GGT':'G',\n",
    "    'TCA':'S', 'TCC':'S', 'TCG':'S', 'TCT':'S',\n",
    "    'TTC':'F', 'TTT':'F', 'TTA':'L', 'TTG':'L',\n",
    "    'TAC':'Y', 'TAT':'Y', 'TAA':'_', 'TAG':'_',\n",
    "    'TGC':'C', 'TGT':'C', 'TGA':'_', 'TGG':'W',\n",
    "}\n",
    "\n",
    "\n",
    "def procesar_secuencia_adn(secuencia_adn):\n",
    "    secuencia_proteina = []\n",
    "    for i in range(0, len(secuencia_adn) - 2, 3): \n",
    "        codon = secuencia_adn[i:i+3]\n",
    "        if codon in tabla_codones:\n",
    "            amino_acido = tabla_codones[codon]\n",
    "            if amino_acido == '_':  \n",
    "                break\n",
    "            secuencia_proteina.append(amino_acido)\n",
    "    secuencia_proteina = ''.join(secuencia_proteina)\n",
    "\n",
    "    longitud_adn = len(secuencia_adn)\n",
    "    longitud_proteina = len(secuencia_proteina)\n",
    "\n",
    "    aromaticos = {'F', 'Y', 'W'}\n",
    "    conteo_aromaticos = sum(1 for aa in secuencia_proteina if aa in aromaticos)\n",
    "    porcentaje_aromaticos = (conteo_aromaticos / longitud_proteina) * 100 if longitud_proteina > 0 else 0\n",
    "\n",
    "   \n",
    "    porcentaje_f = (secuencia_proteina.count('F') / longitud_proteina) * 100 if longitud_proteina > 0 else 0\n",
    "    porcentaje_y = (secuencia_proteina.count('Y') / longitud_proteina) * 100 if longitud_proteina > 0 else 0\n",
    "    porcentaje_w = (secuencia_proteina.count('W') / longitud_proteina) * 100 if longitud_proteina > 0 else 0\n",
    "\n",
    "    return {\n",
    "        \"secuencia_proteina\": secuencia_proteina,\n",
    "        \"longitud_adn\": longitud_adn,\n",
    "        \"longitud_proteina\": longitud_proteina,\n",
    "        \"porcentaje_aromaticos\": porcentaje_aromaticos,\n",
    "        \"porcentaje_f\": porcentaje_f,\n",
    "        \"porcentaje_y\": porcentaje_y,\n",
    "        \"porcentaje_w\": porcentaje_w\n",
    "    }\n",
    "\n",
    "resultado = procesar_secuencia_adn(secuencia)\n",
    "\n",
    "print(\"Secuencia traducida de proteína:\", resultado[\"secuencia_proteina\"])\n",
    "print(\"Longitud de la secuencia de ADN:\", resultado[\"longitud_adn\"])\n",
    "print(\"Longitud de la secuencia de proteínas:\", resultado[\"longitud_proteina\"])\n",
    "print(\"Porcentaje de aminoácidos aromáticos:\", resultado[\"porcentaje_aromaticos\"])\n",
    "print(\"Porcentaje de Fenilalanina (F):\", resultado[\"porcentaje_f\"])\n",
    "print(\"Porcentaje de Tirosina (Y):\", resultado[\"porcentaje_y\"])\n",
    "print(\"Porcentaje de Triptofano (W):\", resultado[\"porcentaje_w\"])\n"
   ]
  }
 ],
 "metadata": {
  "kernelspec": {
   "display_name": "Python 3 (ipykernel)",
   "language": "python",
   "name": "python3"
  },
  "language_info": {
   "codemirror_mode": {
    "name": "ipython",
    "version": 3
   },
   "file_extension": ".py",
   "mimetype": "text/x-python",
   "name": "python",
   "nbconvert_exporter": "python",
   "pygments_lexer": "ipython3",
   "version": "3.12.4"
  }
 },
 "nbformat": 4,
 "nbformat_minor": 5
}
